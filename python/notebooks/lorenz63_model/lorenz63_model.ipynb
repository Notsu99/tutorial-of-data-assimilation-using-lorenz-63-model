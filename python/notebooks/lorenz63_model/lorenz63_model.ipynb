{
 "cells": [
  {
   "cell_type": "code",
   "execution_count": null,
   "id": "a209ccee-ff8b-409e-b1b9-bf97671c6652",
   "metadata": {
    "tags": []
   },
   "outputs": [],
   "source": [
    "%load_ext autoreload\n",
    "%autoreload 2\n",
    "%matplotlib inline"
   ]
  },
  {
   "cell_type": "markdown",
   "id": "bee3b47d-5257-422b-a971-e3c393002ed8",
   "metadata": {},
   "source": [
    "# Import"
   ]
  },
  {
   "cell_type": "code",
   "execution_count": null,
   "id": "cdf7a94a-3635-40bf-81ff-59203eb71e1b",
   "metadata": {
    "tags": []
   },
   "outputs": [],
   "source": [
    "import sys\n",
    "from logging import INFO, StreamHandler, getLogger\n",
    "\n",
    "logger = getLogger()\n",
    "if not logger.hasHandlers():\n",
    "    logger.addHandler(StreamHandler(sys.stdout))\n",
    "logger.setLevel(INFO)"
   ]
  },
  {
   "cell_type": "code",
   "execution_count": null,
   "id": "f373f4fe-5b73-4515-b6fb-57a8ce6327af",
   "metadata": {
    "tags": []
   },
   "outputs": [],
   "source": [
    "import os\n",
    "import pathlib\n",
    "\n",
    "import matplotlib.pyplot as plt\n",
    "import numpy as np\n",
    "import torch\n",
    "from src.lorenz63_model.lorenz63_model import Lorenz63\n",
    "from src.lorenz63_model.utils.lorenz63_config import Lorenz63Config\n",
    "from src.utils.random_seed_helper import set_seeds\n",
    "from tqdm.notebook import tqdm\n",
    "\n",
    "plt.rcParams[\"font.family\"] = \"serif\"\n",
    "os.environ[\"CUBLAS_WORKSPACE_CONFIG\"] = r\":4096:8\"  # to make calculations deterministic"
   ]
  },
  {
   "cell_type": "markdown",
   "id": "7bf61176-eb2e-4fef-b541-c1a21d571c7b",
   "metadata": {},
   "source": [
    "# Define constant"
   ]
  },
  {
   "cell_type": "code",
   "execution_count": null,
   "id": "85b2fb28-c726-49cc-a404-5f30c9518848",
   "metadata": {
    "tags": []
   },
   "outputs": [],
   "source": [
    "ROOT_DIR = pathlib.Path(os.environ[\"PYTHONPATH\"]).parent.resolve()\n",
    "\n",
    "fig_dir = f\"{ROOT_DIR}/docs/lorenz63_model/fig\"\n",
    "# os.makedirs(fig_dir, exist_ok=False)\n",
    "\n",
    "DEVICE = torch.device(\"cuda\" if torch.cuda.is_available() else \"cpu\").type"
   ]
  },
  {
   "cell_type": "markdown",
   "id": "c05e3b77-47c8-468e-956c-eb1b00b54e01",
   "metadata": {},
   "source": [
    "# Run simulation"
   ]
  },
  {
   "cell_type": "code",
   "execution_count": null,
   "id": "4d3632ef-b40d-4e35-8139-8d0abaecd673",
   "metadata": {
    "tags": []
   },
   "outputs": [],
   "source": [
    "set_seeds(seed=42, use_deterministic=True)"
   ]
  },
  {
   "cell_type": "code",
   "execution_count": null,
   "id": "9e8e025f-4b5c-48c8-9a90-3999474f73fe",
   "metadata": {
    "tags": []
   },
   "outputs": [],
   "source": [
    "cfg = Lorenz63Config(\n",
    "    n_batch=2,\n",
    "    noise_amplitude=1.0,\n",
    "    device=DEVICE,\n",
    "    precision=\"double\"\n",
    ")"
   ]
  },
  {
   "cell_type": "code",
   "execution_count": null,
   "id": "7d9e1e8b-2cca-417d-a845-e29045baaaa2",
   "metadata": {
    "tags": []
   },
   "outputs": [],
   "source": [
    "model = Lorenz63(cfg, show_input_cfg_info=True)"
   ]
  },
  {
   "cell_type": "code",
   "execution_count": null,
   "id": "1e10b074-d37b-4a3d-a52b-54eaab7822dd",
   "metadata": {
    "tags": []
   },
   "outputs": [],
   "source": [
    "X0 = torch.tensor([11.2, 10.2, 33.2], dtype=model.real_dtype).to(model.device)\n",
    "\n",
    "model.initialize(X=X0)\n",
    "\n",
    "Xs, ts = [model.get_state()], [model.t]\n",
    "\n",
    "dt = 0.001\n",
    "output_dt = 0.01\n",
    "end_time = 40\n",
    "\n",
    "output_tsteps = torch.arange(output_dt, end_time + output_dt, output_dt)\n",
    "\n",
    "for _ in tqdm(output_tsteps):\n",
    "    model.integrate_n_steps(dt_per_step=dt, n_steps=int(output_dt / dt))\n",
    "    Xs.append(model.get_state())\n",
    "    ts.append(model.t)\n",
    "\n",
    "# Stack arrays along time dim\n",
    "Xs = torch.stack(Xs, dim=1).squeeze()\n",
    "\n",
    "# shape = (batch, time, (x, y, z))\n",
    "logger.info(f\"Shape of the result: {Xs.shape}\")"
   ]
  },
  {
   "cell_type": "markdown",
   "id": "42e4bad9-20a5-40fd-8143-1214b5f8b564",
   "metadata": {},
   "source": [
    "# Plot result"
   ]
  },
  {
   "cell_type": "code",
   "execution_count": null,
   "id": "26df37ae-8172-473b-8128-ec6ca8b85d8c",
   "metadata": {
    "tags": []
   },
   "outputs": [],
   "source": [
    "plt.rcParams[\"font.size\"] = 15\n",
    "\n",
    "fig, axes = plt.subplots(nrows=3, ncols=1, figsize=(10, 10))\n",
    "for (i, ax), ylabel in zip(enumerate(axes), [\"x\", \"y\", \"z\"]):\n",
    "    ax.plot(ts, Xs[0, :, i], label=\"data1\")\n",
    "    ax.plot(ts, Xs[1, :, i], label=\"data2\")\n",
    "    ax.set_xlabel(\"t\")\n",
    "    ax.set_ylabel(ylabel)\n",
    "\n",
    "    ax.legend(loc=3)\n",
    "\n",
    "# fig.savefig(f\"{fig_dir}/xyz_trajectory_plot.png\")\n",
    "\n",
    "plt.show()"
   ]
  },
  {
   "cell_type": "code",
   "execution_count": null,
   "id": "37c1e2c6-b62f-4710-a236-a1cf82ba7e7f",
   "metadata": {
    "tags": []
   },
   "outputs": [],
   "source": [
    "plt.rcParams[\"font.size\"] = 20\n",
    "\n",
    "fig = plt.figure(figsize=(12, 12))\n",
    "ax = fig.add_subplot(projection=\"3d\")\n",
    "ax.plot(Xs[0, :, 0].numpy(), Xs[0, :, 1].numpy(), Xs[0, :, 2].numpy(), \"-\", label=\"data1\")\n",
    "ax.plot(Xs[1, :, 0].numpy(), Xs[1, :, 1].numpy(), Xs[1, :, 2].numpy(), \"-\", label=\"data2\")\n",
    "\n",
    "ax.set_xlabel(\"x\")\n",
    "ax.set_ylabel(\"y\")\n",
    "ax.set_zlabel(\"z\")\n",
    "\n",
    "ax.legend()\n",
    "\n",
    "# fig.savefig(f\"{fig_dir}/3d_trajectory_plot.png\")\n",
    "\n",
    "plt.show()"
   ]
  },
  {
   "cell_type": "code",
   "execution_count": null,
   "id": "7681ae81-e6ab-492b-9183-286a6a9814e2",
   "metadata": {},
   "outputs": [],
   "source": []
  }
 ],
 "metadata": {
  "kernelspec": {
   "display_name": "Python 3 (ipykernel)",
   "language": "python",
   "name": "python3"
  },
  "language_info": {
   "codemirror_mode": {
    "name": "ipython",
    "version": 3
   },
   "file_extension": ".py",
   "mimetype": "text/x-python",
   "name": "python",
   "nbconvert_exporter": "python",
   "pygments_lexer": "ipython3",
   "version": "3.10.12"
  }
 },
 "nbformat": 4,
 "nbformat_minor": 5
}
