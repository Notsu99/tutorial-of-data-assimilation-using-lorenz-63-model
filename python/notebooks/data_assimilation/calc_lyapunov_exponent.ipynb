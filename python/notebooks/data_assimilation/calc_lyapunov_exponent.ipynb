{
 "cells": [
  {
   "cell_type": "markdown",
   "id": "52121c14-00ec-4f46-a804-767601df6562",
   "metadata": {},
   "source": [
    "# 本ノートブックの目的"
   ]
  },
  {
   "cell_type": "markdown",
   "id": "7a6dd144-3c15-411c-8814-6bec22c83810",
   "metadata": {
    "tags": []
   },
   "source": [
    "Lorenz63 modelのリアプノフ指数を計算すること．"
   ]
  },
  {
   "cell_type": "markdown",
   "id": "903c90d2-dfa0-4584-8324-ed7ebc1ce7f0",
   "metadata": {},
   "source": [
    "# Import"
   ]
  },
  {
   "cell_type": "code",
   "execution_count": null,
   "id": "b11f5a1a-b2c9-44c7-b8c3-255efb66b1ed",
   "metadata": {
    "tags": []
   },
   "outputs": [],
   "source": [
    "%load_ext autoreload\n",
    "%autoreload 2\n",
    "%matplotlib inline"
   ]
  },
  {
   "cell_type": "code",
   "execution_count": null,
   "id": "fff51a23-57be-42f2-b2eb-88871009f7e0",
   "metadata": {
    "tags": []
   },
   "outputs": [],
   "source": [
    "import sys\n",
    "from logging import INFO, StreamHandler, getLogger\n",
    "\n",
    "logger = getLogger()\n",
    "if not logger.hasHandlers():\n",
    "    logger.addHandler(StreamHandler(sys.stdout))\n",
    "logger.setLevel(INFO)"
   ]
  },
  {
   "cell_type": "code",
   "execution_count": null,
   "id": "e1dfe284-0901-4658-b8d7-8d2eaf95db40",
   "metadata": {
    "tags": []
   },
   "outputs": [],
   "source": [
    "import os\n",
    "import pathlib\n",
    "\n",
    "import matplotlib.pyplot as plt\n",
    "import numpy as np\n",
    "import torch\n",
    "from numpy.polynomial import polynomial as P\n",
    "from src.lorenz63_model.lorenz63_model import Lorenz63\n",
    "from src.lorenz63_model.utils.lorenz63_config import Lorenz63Config\n",
    "from src.utils.random_seed_helper import set_seeds\n",
    "from tqdm.notebook import tqdm\n",
    "\n",
    "plt.rcParams[\"font.family\"] = \"serif\"\n",
    "os.environ[\"CUBLAS_WORKSPACE_CONFIG\"] = r\":4096:8\"  # to make calculations deterministic"
   ]
  },
  {
   "cell_type": "markdown",
   "id": "3f480bf7-7522-450e-87b2-9562065d5f62",
   "metadata": {},
   "source": [
    "# Define constant"
   ]
  },
  {
   "cell_type": "code",
   "execution_count": null,
   "id": "1d5116d6-e955-4e36-bf04-3167017c0807",
   "metadata": {
    "tags": []
   },
   "outputs": [],
   "source": [
    "ROOT_DIR = pathlib.Path(os.environ[\"PYTHONPATH\"]).parent.resolve()\n",
    "\n",
    "fig_dir = f\"{ROOT_DIR}/docs/data_assimilation/fig\"\n",
    "os.makedirs(fig_dir, exist_ok=True)\n",
    "\n",
    "DEVICE = torch.device(\"cuda\" if torch.cuda.is_available() else \"cpu\").type"
   ]
  },
  {
   "cell_type": "markdown",
   "id": "7fc4ba27-e772-4caf-a069-918b26c4552c",
   "metadata": {},
   "source": [
    "# Define method"
   ]
  },
  {
   "cell_type": "code",
   "execution_count": null,
   "id": "5f88eac7-d622-4b53-b3f8-56fc76a16922",
   "metadata": {},
   "outputs": [],
   "source": [
    "def calc_two_trajectory_distance_time_series(\n",
    "    result1: torch.Tensor,\n",
    "    result2: torch.Tensor,\n",
    ") -> np.ndarray:\n",
    "\n",
    "    assert result1.ndim == result2.ndim == 2\n",
    "\n",
    "    num_tsteps = result1.shape[0]\n",
    "\n",
    "    dis_time_series = []\n",
    "    for it in range(num_tsteps):\n",
    "        dis = torch.linalg.norm(result1[it] - result2[it])\n",
    "\n",
    "        dis_time_series.append(dis.item())\n",
    "\n",
    "    return np.array(dis_time_series)"
   ]
  },
  {
   "cell_type": "markdown",
   "id": "251ff4d1-b807-4e4f-86ca-677902e759cf",
   "metadata": {},
   "source": [
    "# Run simulation"
   ]
  },
  {
   "cell_type": "code",
   "execution_count": null,
   "id": "c3bec0b7-3d10-4bcf-ba15-26c5455c1490",
   "metadata": {
    "tags": []
   },
   "outputs": [],
   "source": [
    "set_seeds(seed=42, use_deterministic=True)"
   ]
  },
  {
   "cell_type": "code",
   "execution_count": null,
   "id": "1b1cf574-6d11-4d51-99d9-8b7a153e785f",
   "metadata": {
    "tags": []
   },
   "outputs": [],
   "source": [
    "cfg = Lorenz63Config(\n",
    "    n_batch=2,\n",
    "    noise_amplitude=0.00001,\n",
    "    device=DEVICE,\n",
    "    precision=\"double\"\n",
    ")"
   ]
  },
  {
   "cell_type": "code",
   "execution_count": null,
   "id": "8d7d84a6-49bc-4e90-9c73-aacfc0b1a0f7",
   "metadata": {
    "tags": []
   },
   "outputs": [],
   "source": [
    "model = Lorenz63(cfg, show_input_cfg_info=False)"
   ]
  },
  {
   "cell_type": "code",
   "execution_count": null,
   "id": "b3d9dad1-cfd5-43f0-9fa5-fac268a571b1",
   "metadata": {
    "tags": []
   },
   "outputs": [],
   "source": [
    "X0 = torch.tensor([11.2, 10.2, 33.2], dtype=model.real_dtype).to(model.device)\n",
    "\n",
    "model.initialize(X=X0)\n",
    "\n",
    "Xs, ts = [model.get_state()], [model.t]\n",
    "\n",
    "dt = 0.001\n",
    "output_dt = 0.01\n",
    "end_time = 30\n",
    "\n",
    "output_tsteps = torch.arange(output_dt, end_time + output_dt, output_dt)\n",
    "\n",
    "for _ in tqdm(output_tsteps):\n",
    "    model.integrate_n_steps(dt_per_step=dt, n_steps=int(output_dt / dt))\n",
    "    Xs.append(model.get_state())\n",
    "    ts.append(model.t)\n",
    "\n",
    "ts = np.array(ts)\n",
    "\n",
    "# Stack arrays along time dim\n",
    "Xs = torch.stack(Xs, dim=1).squeeze()\n",
    "\n",
    "# shape = (batch, time, (x, y, z))\n",
    "logger.info(f\"Shape of the result: {Xs.shape}\")"
   ]
  },
  {
   "cell_type": "markdown",
   "id": "3052a82b-c896-4107-a17a-16b039d1fc69",
   "metadata": {},
   "source": [
    "# Plot simulation result"
   ]
  },
  {
   "cell_type": "code",
   "execution_count": null,
   "id": "a93a8133-6398-46a2-bdbc-01f8da47de3f",
   "metadata": {
    "tags": []
   },
   "outputs": [],
   "source": [
    "fig, axes = plt.subplots(nrows=3, ncols=1, figsize=(10, 10))\n",
    "for (i, ax), ylabel in zip(enumerate(axes), [\"x\", \"y\", \"z\"]):\n",
    "    ax.plot(ts, Xs[0, :, i], label=\"Result 1\")\n",
    "    ax.plot(ts, Xs[1, :, i], label=\"Result 2\")\n",
    "    ax.set_xlabel(\"t\")\n",
    "    ax.set_ylabel(ylabel)\n",
    "\n",
    "    ax.legend(loc=3)\n",
    "\n",
    "plt.show()"
   ]
  },
  {
   "cell_type": "markdown",
   "id": "97b3b0fb-2ee1-48e9-9d8e-be23cc9037dd",
   "metadata": {},
   "source": [
    "# Calculate Lyapunov exponent"
   ]
  },
  {
   "cell_type": "code",
   "execution_count": null,
   "id": "e33e37e7-9168-4fd7-9506-800d29be1a58",
   "metadata": {},
   "outputs": [],
   "source": [
    "dis_time_series = calc_two_trajectory_distance_time_series(Xs[0], Xs[1])\n",
    "\n",
    "ts_end = 1700\n",
    "\n",
    "linear_fit_coef = P.polyfit(ts[:ts_end], np.log(dis_time_series[:ts_end]), 1)\n",
    "lyapunov_exponent = linear_fit_coef[1]\n",
    "\n",
    "logger.info(f\"Lyapunov exponent is {lyapunov_exponent}\")"
   ]
  },
  {
   "cell_type": "code",
   "execution_count": null,
   "id": "de26ac7a-5456-422b-bb89-eebd80a7a6f4",
   "metadata": {
    "tags": []
   },
   "outputs": [],
   "source": [
    "linear_values = P.polyval(ts[:ts_end], linear_fit_coef)\n",
    "\n",
    "plt.rcParams[\"font.size\"] = 18\n",
    "\n",
    "fig = plt.figure(figsize=(10, 6))\n",
    "\n",
    "plt.plot(ts, np.log(dis_time_series), label=r\"$y =$ ln ($\\mathit{L}$)\")\n",
    "plt.plot(ts[:ts_end], linear_values, label=rf\"$y = \\lambda t + b$ ($\\lambda$ = {lyapunov_exponent:.3f})\")\n",
    "\n",
    "plt.xlabel(r\"$t$ : Time\")\n",
    "plt.ylabel(r\"$y$\")\n",
    "\n",
    "plt.title(r\"$\\mathit{L}$ means Distance of two trajectorys at $t$\")\n",
    "\n",
    "plt.legend()\n",
    "\n",
    "# plt.savefig(f\"{fig_dir}/lyapunov_exponent_plot.png\")\n",
    "\n",
    "plt.show()"
   ]
  },
  {
   "cell_type": "code",
   "execution_count": null,
   "id": "6c17a189-2927-435d-bb0e-c053b7a01458",
   "metadata": {},
   "outputs": [],
   "source": []
  }
 ],
 "metadata": {
  "kernelspec": {
   "display_name": "Python 3 (ipykernel)",
   "language": "python",
   "name": "python3"
  },
  "language_info": {
   "codemirror_mode": {
    "name": "ipython",
    "version": 3
   },
   "file_extension": ".py",
   "mimetype": "text/x-python",
   "name": "python",
   "nbconvert_exporter": "python",
   "pygments_lexer": "ipython3",
   "version": "3.9.5"
  }
 },
 "nbformat": 4,
 "nbformat_minor": 5
}
