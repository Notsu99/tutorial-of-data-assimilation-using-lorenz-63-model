{
 "cells": [
  {
   "cell_type": "code",
   "execution_count": null,
   "id": "716d8f03-78be-456c-aa65-cbf31693bd7c",
   "metadata": {
    "tags": []
   },
   "outputs": [],
   "source": [
    "%load_ext autoreload\n",
    "%autoreload 2\n",
    "%matplotlib inline"
   ]
  },
  {
   "cell_type": "markdown",
   "id": "b598edcf-2785-41ae-835c-be63ec97bb82",
   "metadata": {},
   "source": [
    "# Import"
   ]
  },
  {
   "cell_type": "code",
   "execution_count": null,
   "id": "a339328a-0b97-4165-991f-9f0ad310d071",
   "metadata": {
    "tags": []
   },
   "outputs": [],
   "source": [
    "import sys\n",
    "from logging import INFO, StreamHandler, getLogger\n",
    "\n",
    "logger = getLogger()\n",
    "if not logger.hasHandlers():\n",
    "    logger.addHandler(StreamHandler(sys.stdout))\n",
    "logger.setLevel(INFO)"
   ]
  },
  {
   "cell_type": "code",
   "execution_count": null,
   "id": "4ee81e99-9390-4126-9089-08cd9cad8d44",
   "metadata": {
    "tags": []
   },
   "outputs": [],
   "source": [
    "import os\n",
    "import pathlib\n",
    "\n",
    "import matplotlib.pyplot as plt\n",
    "import torch\n",
    "from src.data_assimilation.enkf.enkf import EnKFPO\n",
    "from src.data_assimilation.enkf.utils.enkf_config import EnKFPOConfig\n",
    "from src.lorenz63_model.lorenz63_model import Lorenz63\n",
    "from src.lorenz63_model.utils.lorenz63_config import Lorenz63Config\n",
    "from src.utils.random_seed_helper import set_seeds\n",
    "from tqdm.notebook import tqdm\n",
    "\n",
    "plt.rcParams[\"font.family\"] = \"serif\"\n",
    "os.environ[\"CUBLAS_WORKSPACE_CONFIG\"] = r\":4096:8\"  # to make calculations deterministic"
   ]
  },
  {
   "cell_type": "markdown",
   "id": "4d23f8e2-fb10-49c5-8119-663597241334",
   "metadata": {},
   "source": [
    "# Define constant"
   ]
  },
  {
   "cell_type": "code",
   "execution_count": null,
   "id": "0929244a-8b4f-4563-bf1d-596d6370ab7a",
   "metadata": {
    "tags": []
   },
   "outputs": [],
   "source": [
    "ROOT_DIR = pathlib.Path(os.environ[\"PYTHONPATH\"]).parent.resolve()\n",
    "\n",
    "fig_dir = f\"{ROOT_DIR}/docs/data_assimilation/fig\"\n",
    "os.makedirs(fig_dir, exist_ok=True)\n",
    "\n",
    "DEVICE = torch.device(\"cuda\" if torch.cuda.is_available() else \"cpu\").type"
   ]
  },
  {
   "cell_type": "markdown",
   "id": "9b3dce07-3d3d-4fab-8eb1-60f99ff99b14",
   "metadata": {},
   "source": [
    "# Define method"
   ]
  },
  {
   "cell_type": "code",
   "execution_count": null,
   "id": "fa5f3b21-d11f-49e6-8170-099f6f9b5662",
   "metadata": {},
   "outputs": [],
   "source": [
    "def calc_rmse(*, gt: torch.Tensor, pred: torch.Tensor,) -> torch.Tensor:\n",
    "    squared_errors = torch.pow(gt - pred, 2)\n",
    "\n",
    "    mse = torch.mean(squared_errors / gt.numel())\n",
    "\n",
    "    rmse = torch.sqrt(mse)\n",
    "\n",
    "    return rmse"
   ]
  },
  {
   "cell_type": "markdown",
   "id": "ae90a1cb-b8c4-4f69-93bd-8e85a1c252bb",
   "metadata": {},
   "source": [
    "# Prepare for simulation"
   ]
  },
  {
   "cell_type": "code",
   "execution_count": null,
   "id": "14931e9e-7d74-4fe4-8f37-c66b421fe96a",
   "metadata": {
    "tags": []
   },
   "outputs": [],
   "source": [
    "set_seeds(seed=42, use_deterministic=True)"
   ]
  },
  {
   "cell_type": "code",
   "execution_count": null,
   "id": "db9fc588-3808-47d2-9e21-b36c4d692e21",
   "metadata": {
    "tags": []
   },
   "outputs": [],
   "source": [
    "n_batch = 42\n",
    "\n",
    "cfg_hr_lorenz = Lorenz63Config(\n",
    "    n_batch=n_batch,\n",
    "    noise_amplitude=1.0,\n",
    "    device=DEVICE,\n",
    "    precision=\"double\"\n",
    ")\n",
    "\n",
    "cfg_uhr_lorenz = Lorenz63Config(\n",
    "    n_batch=1,\n",
    "    noise_amplitude=1.0,\n",
    "    device=DEVICE,\n",
    "    precision=\"double\"\n",
    ")\n",
    "\n",
    "cfg_da = EnKFPOConfig(\n",
    "    n_ensemble=n_batch,\n",
    "    inflation_coefficient=1.2,\n",
    "    obs_std=1.0,\n",
    "    obs_matrix=[[1, 0, 0], [0, 1, 0], [0, 0, 1]],\n",
    "    device=DEVICE,\n",
    "    precision=\"double\"\n",
    ")"
   ]
  },
  {
   "cell_type": "code",
   "execution_count": null,
   "id": "355c554d-b933-469f-8d76-937f3c3cf75d",
   "metadata": {
    "tags": []
   },
   "outputs": [],
   "source": [
    "hr_model = Lorenz63(cfg_hr_lorenz, show_input_cfg_info=False)\n",
    "uhr_model = Lorenz63(cfg_uhr_lorenz, show_input_cfg_info=False)\n",
    "assimilator = EnKFPO(cfg_da, show_input_cfg_info=False)"
   ]
  },
  {
   "cell_type": "markdown",
   "id": "a09d36a5-7f75-4f92-a921-48816246c457",
   "metadata": {},
   "source": [
    "# Make ground truth data"
   ]
  },
  {
   "cell_type": "code",
   "execution_count": null,
   "id": "ff33aa00-aeea-4ffe-b793-82fbbaf2f08d",
   "metadata": {
    "tags": []
   },
   "outputs": [],
   "source": [
    "X0 = torch.tensor([11.2, 10.2, 33.2], dtype=uhr_model.real_dtype).to(uhr_model.device)\n",
    "uhr_model.initialize(X0)\n",
    "\n",
    "Xgt, tgt = [uhr_model.get_state()], [uhr_model.t]\n",
    "\n",
    "uhr_dt = 0.001\n",
    "output_uhr_dt = 0.001\n",
    "end_time = 30\n",
    "\n",
    "output_uhr_tsteps = torch.arange(output_uhr_dt, end_time + output_uhr_dt, output_uhr_dt)\n",
    "\n",
    "for t in tqdm(output_uhr_tsteps):\n",
    "    uhr_model.integrate_n_steps(dt_per_step=uhr_dt, n_steps=int(output_uhr_dt / uhr_dt))\n",
    "    Xgt.append(uhr_model.get_state())\n",
    "    tgt.append(uhr_model.t)\n",
    "\n",
    "# Stack arrays along time dim\n",
    "Xgt = torch.stack(Xgt, dim=1).squeeze()\n",
    "\n",
    "# shape = (batch, time, (x, y, z))\n",
    "logger.info(f\"Shape of the result: {Xgt.shape}\")"
   ]
  },
  {
   "cell_type": "markdown",
   "id": "dd6d9393-f77e-4524-8d0d-778c18a94057",
   "metadata": {},
   "source": [
    "# データ同化"
   ]
  },
  {
   "cell_type": "code",
   "execution_count": null,
   "id": "514de7ca-4af9-48e8-ab3e-01a168026938",
   "metadata": {
    "tags": []
   },
   "outputs": [],
   "source": [
    "X0 = torch.tensor([11.2, 10.2, 33.2], dtype=hr_model.real_dtype).to(hr_model.device)\n",
    "X0 = X0 + torch.randn(X0.shape).to(hr_model.device)\n",
    "\n",
    "hr_model.initialize(X0)\n",
    "\n",
    "Xa, ta = [hr_model.get_state()], [hr_model.t]\n",
    "all_obs = []\n",
    "\n",
    "hr_dt = 0.01\n",
    "output_hr_dt = 0.01\n",
    "end_time = 30\n",
    "\n",
    "scale_factor = int(hr_dt // uhr_dt)\n",
    "Xtrue = Xgt[::scale_factor]\n",
    "\n",
    "output_hr_tsteps = torch.arange(output_hr_dt, end_time + output_hr_dt, output_hr_dt)\n",
    "\n",
    "for i, t in tqdm(enumerate(output_hr_tsteps, start=1)):\n",
    "    hr_model.integrate_n_steps(dt_per_step=hr_dt, n_steps=int(output_hr_dt / hr_dt))\n",
    "    if i % 10 == 0:\n",
    "        Xa_t, obs = assimilator.apply(Xf=hr_model.get_state(), Xtrue=Xtrue[i])\n",
    "        Xa.append(Xa_t)\n",
    "        all_obs.append(obs)\n",
    "        hr_model.set_state(Xa_t)\n",
    "    else:\n",
    "        Xa.append(hr_model.get_state())\n",
    "    ta.append(hr_model.t)\n",
    "\n",
    "# Stack arrays along time dim\n",
    "Xa = torch.stack(Xa, dim=1).squeeze()\n",
    "all_obs = torch.stack(all_obs, dim=1).squeeze()\n",
    "\n",
    "# shape = (batch, time, (x, y, z))\n",
    "logger.info(f\"Shape of the result: {Xa.shape}\")"
   ]
  },
  {
   "cell_type": "markdown",
   "id": "5c6ed582-0d7c-48dc-8753-da2d34344899",
   "metadata": {},
   "source": [
    "# Plot result"
   ]
  },
  {
   "cell_type": "code",
   "execution_count": null,
   "id": "cc93d7f6-d6a3-4681-9e9e-cd583f57e655",
   "metadata": {
    "tags": []
   },
   "outputs": [],
   "source": [
    "# アンサンブル予測\n",
    "Xa_mean = torch.mean(Xa, dim=0)\n",
    "\n",
    "#\n",
    "obs_mean = torch.mean(all_obs, dim=0)\n",
    "\n",
    "# rmse\n",
    "rmse = calc_rmse(gt=Xtrue, pred=Xa_mean)"
   ]
  },
  {
   "cell_type": "code",
   "execution_count": null,
   "id": "dd6437e2-1321-4fce-811c-3cf0d224020a",
   "metadata": {
    "tags": []
   },
   "outputs": [],
   "source": [
    "plt.rcParams[\"font.size\"] = 24\n",
    "\n",
    "fig, axes = plt.subplots(nrows=3, ncols=1, figsize=(15, 20))\n",
    "for (i, ax), ylabel in zip(enumerate(axes), [\"x\", \"y\", \"z\"]):\n",
    "    ax.plot(ta, Xtrue[:, i], label=\"ground truth\")\n",
    "    ax.plot(ta, Xa_mean[:, i], label=\"prediction\")\n",
    "    ax.plot(ta[1::scale_factor], obs_mean[:, i], \"*\", label=\"observation\")\n",
    "    ax.set_xlabel(r\"$t$\")\n",
    "    ax.set_ylabel(rf\"${ylabel}$\")\n",
    "    ax.legend(loc=3)\n",
    "\n",
    "# fig.savefig(f\"{fig_dir}/xyz_trajectory_with_da_plot.png\")\n",
    "plt.show()"
   ]
  },
  {
   "cell_type": "code",
   "execution_count": null,
   "id": "7b3a3afa-8d6e-46d7-bd8a-b761ef1ebbaa",
   "metadata": {
    "tags": []
   },
   "outputs": [],
   "source": [
    "plt.rcParams[\"font.size\"] = 18\n",
    "\n",
    "fig, ax = plt.subplots(figsize=(5, 4), facecolor=\"white\")\n",
    "\n",
    "bar = ax.bar([\"EnKF-PO\"], [rmse])\n",
    "\n",
    "for b in bar:\n",
    "    height = b.get_height()\n",
    "    ax.text(b.get_x() + b.get_width() / 2, height, round(height, 4),\n",
    "            ha='center', va='bottom')\n",
    "\n",
    "ax.set_ylabel(\"RMSE\")\n",
    "ax.set_ylim(0, 0.03)\n",
    "\n",
    "# fig.savefig(f\"{fig_dir}/rmse_enkf_po_method.png\")\n",
    "\n",
    "plt.show()"
   ]
  },
  {
   "cell_type": "code",
   "execution_count": null,
   "id": "bbde29ea-60e4-48c6-a8b0-35d155e3a75c",
   "metadata": {},
   "outputs": [],
   "source": []
  }
 ],
 "metadata": {
  "kernelspec": {
   "display_name": "Python 3 (ipykernel)",
   "language": "python",
   "name": "python3"
  },
  "language_info": {
   "codemirror_mode": {
    "name": "ipython",
    "version": 3
   },
   "file_extension": ".py",
   "mimetype": "text/x-python",
   "name": "python",
   "nbconvert_exporter": "python",
   "pygments_lexer": "ipython3",
   "version": "3.10.12"
  }
 },
 "nbformat": 4,
 "nbformat_minor": 5
}
